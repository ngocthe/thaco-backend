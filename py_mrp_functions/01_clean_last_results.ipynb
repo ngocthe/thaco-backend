{
 "cells": [
  {
   "cell_type": "code",
   "execution_count": null,
   "metadata": {
    "collapsed": true,
    "pycharm": {
     "name": "#%%\n"
    }
   },
   "outputs": [],
   "source": [
    "import os\n",
    "from datetime import datetime\n",
    "import pandas as pd\n",
    "from sqlalchemy import create_engine, text\n",
    "import time\n",
    "import numpy as np\n",
    "import dotenv\n",
    "\n",
    "dotenv.load_dotenv(\".env.local\")\n",
    "\n",
    "from test_unit.tasks_unit1 import UnitTask1\n",
    "from mrp_functions.base_tasks import TaskBase\n",
    "from mrp_functions import logging\n",
    "import re\n",
    "\n",
    "np.__version__\n",
    "\n",
    "part_group=os.environ['PART_GROUP']\n",
    "contract_code=os.environ['CONTRACT_CODE']\n",
    "mrp_run_date=os.environ['MRP_RUN_DATE']\n",
    "msc_code=os.environ['MSC_CODE']\n",
    "plant_code=os.environ['PLANT_CODE']\n",
    "production_plan_id=int(os.environ['PRODUCTION_PLAN_ID'])\n",
    "user_code=int(os.environ['USER_CODE'])\n",
    "simulation=bool(int(os.environ['SIMULATION']))\n",
    "\n",
    "tb = TaskBase()\n",
    "tb.db_connection_health_check()"
   ]
  },
  {
   "cell_type": "code",
   "execution_count": null,
   "outputs": [],
   "source": [
    "# Get list of all MSC Code to run MRP\n",
    "list_msc_plant_code = tb.query_list_distinct_msc_from_production_plan(production_plan_id)\n",
    "logging.info(f'Number of MSCs from Production Plan: {len(list_msc_plant_code)}')"
   ],
   "metadata": {
    "collapsed": false,
    "pycharm": {
     "name": "#%%\n"
    }
   }
  },
  {
   "cell_type": "code",
   "execution_count": null,
   "outputs": [],
   "source": [
    "# Get end date of production plan\n",
    "end_date_of_prod_plan = tb.query_end_date_from_production_plan(production_plan_id)\n",
    "if end_date_of_prod_plan is None:\n",
    "    raise ValueError(\"Production Plan End Date is None!\") # FIXME: Xu ly nhu nao cho nay ?\n",
    "# Get list of all date from N to N+6 to end of production Plan\n",
    "list_mrp_date = tb.query_list_date_from_Nplus1_to_Nplus6_definition(mrp_run_date,\n",
    "                                                                                end_date_of_prod_plan)\n",
    "logging.info(f\"[{production_plan_id}_{mrp_run_date}] \"\n",
    "             f\"System Run From: {list_mrp_date[0]} To: {list_mrp_date[-1]}\")"
   ],
   "metadata": {
    "collapsed": false,
    "pycharm": {
     "name": "#%%\n"
    }
   }
  },
  {
   "cell_type": "code",
   "execution_count": null,
   "outputs": [],
   "source": [
    "parent_start_timestamp = time.time()\n",
    "list_distinct_plant_code = []\n",
    "for _, _, _plant_code in list_msc_plant_code:\n",
    "    if _plant_code not in list_distinct_plant_code:\n",
    "        # To delete Forecast Logical Inventory from current date and plant code\n",
    "        logging.info(f\"[{production_plan_id}_{mrp_run_date}_{_plant_code}] \"\n",
    "                     f\"Clear logical inventory Forecast - [Simulation]\")\n",
    "        tb.clear_logical_inventory_forecast(mrp_run_date, _plant_code, True)\n",
    "        if not simulation:\n",
    "            logging.info(f\"[{production_plan_id}_{mrp_run_date}_{_plant_code}] \"\n",
    "                         f\"Clear logical inventory Forecast - [Actual]\")\n",
    "            tb.clear_logical_inventory_forecast(mrp_run_date, _plant_code, False)\n",
    "        logging.info(f\"[{production_plan_id}_{mrp_run_date}_{_plant_code}] \"\n",
    "                     f\"Clear logical inventory Forecast finishes after: \"\n",
    "                     f\"{time.time() - parent_start_timestamp:.2f} sec\")\n",
    "\n",
    "        # To delete Forecast Results from current date, import id and plant code\n",
    "        logging.info(f\"[{production_plan_id}_{mrp_run_date}_{_plant_code}] \"\n",
    "                     f\"Clear MRP Result - [Simulation: {simulation}]\")\n",
    "        tb.clear_mrp_results_forecast(mrp_run_date, production_plan_id, _plant_code, simulation)\n",
    "        logging.info(f\"[{production_plan_id}_{mrp_run_date}_{_plant_code}] \"\n",
    "                     f\"Clear MRP Result finishes after: {time.time() - parent_start_timestamp:.2f} sec\")\n",
    "\n",
    "        # To delete future Shortage Parts Quantity from current date and mapped to this production plan\n",
    "        if simulation:\n",
    "            logging.info(f\"[{production_plan_id}_{mrp_run_date}_{_plant_code}] \"\n",
    "                         f\"Clear Shortage parts forecast\")\n",
    "            tb.clear_shortage_parts_forecast(mrp_run_date, production_plan_id, _plant_code)\n",
    "            logging.info(f\"[{production_plan_id}_{mrp_run_date}_{_plant_code}] \"\n",
    "                         f\"Clear Shortage parts forecast finishes after: \"\n",
    "                         f\"{time.time() - parent_start_timestamp:.2f} sec\")\n",
    "\n",
    "        list_distinct_plant_code.append(_plant_code)\n",
    "# Close DB Connection because we don't need it anymore\n",
    "tb.db_close()\n"
   ],
   "metadata": {
    "collapsed": false,
    "pycharm": {
     "name": "#%%\n"
    }
   }
  }
 ],
 "metadata": {
  "kernelspec": {
   "display_name": "Python 3",
   "language": "python",
   "name": "python3"
  },
  "language_info": {
   "codemirror_mode": {
    "name": "ipython",
    "version": 2
   },
   "file_extension": ".py",
   "mimetype": "text/x-python",
   "name": "python",
   "nbconvert_exporter": "python",
   "pygments_lexer": "ipython2",
   "version": "2.7.6"
  }
 },
 "nbformat": 4,
 "nbformat_minor": 0
}