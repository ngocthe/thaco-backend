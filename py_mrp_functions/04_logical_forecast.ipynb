{
 "cells": [
  {
   "cell_type": "code",
   "execution_count": null,
   "metadata": {
    "collapsed": true,
    "pycharm": {
     "name": "#%%\n"
    }
   },
   "outputs": [],
   "source": [
    "import os\n",
    "from datetime import datetime\n",
    "import pandas as pd\n",
    "from sqlalchemy import create_engine, text\n",
    "import time\n",
    "import numpy as np\n",
    "import dotenv\n",
    "\n",
    "dotenv.load_dotenv(\".env.local\")\n",
    "\n",
    "from test_unit.tasks_unit1 import UnitTask1\n",
    "from mrp_functions.base_tasks import TaskBase\n",
    "from mrp_functions import logging\n",
    "import re\n",
    "\n",
    "np.__version__\n",
    "\n",
    "part_group=os.environ['PART_GROUP']\n",
    "contract_code=os.environ['CONTRACT_CODE']\n",
    "mrp_run_date=os.environ['MRP_RUN_DATE']\n",
    "msc_code=os.environ['MSC_CODE']\n",
    "plant_code=os.environ['PLANT_CODE']\n",
    "production_plan_id=int(os.environ['PRODUCTION_PLAN_ID'])\n",
    "user_code=int(os.environ['USER_CODE'])\n",
    "simulation=bool(int(os.environ['SIMULATION']))\n",
    "\n",
    "tb = TaskBase()\n",
    "tb.db_connection_health_check()"
   ]
  },
  {
   "cell_type": "code",
   "execution_count": null,
   "outputs": [],
   "source": [
    "# Get end date of production plan\n",
    "end_date_of_prod_plan = tb.query_end_date_from_production_plan(production_plan_id)\n",
    "if end_date_of_prod_plan is None:\n",
    "    raise ValueError(\"Production Plan End Date is None!\")\n",
    "# Get list of all date from N to N+6 to end of production Plan\n",
    "list_mrp_date = tb.query_list_date_from_Nplus1_to_Nplus6_definition(mrp_run_date, end_date_of_prod_plan)\n",
    "print(f\"Inventory Forecast From: {list_mrp_date[0]} To: {list_mrp_date[-1]}\")"
   ],
   "metadata": {
    "collapsed": false,
    "pycharm": {
     "name": "#%%\n"
    }
   }
  },
  {
   "cell_type": "code",
   "execution_count": null,
   "outputs": [],
   "source": [
    "# To query current Logical Inventory Quantity\n",
    "log_inventory_frame = tb.query_inventory_log(mrp_run_date, plant_code, simulation)\n",
    "logging.info(f\"[{production_plan_id}_{mrp_run_date}_{plant_code}] \"\n",
    "             f\"Current Inventory Size: {len(log_inventory_frame)}\")\n",
    "log_inventory_frame = log_inventory_frame.pivot_table(\n",
    "            index=\"production_date\",\n",
    "            columns=[\"part_code\", \"part_color_code\"],\n",
    "            values=\"quantity\",\n",
    "            aggfunc='sum')\n",
    "log_inventory_frame"
   ],
   "metadata": {
    "collapsed": false,
    "pycharm": {
     "name": "#%%\n"
    }
   }
  },
  {
   "cell_type": "code",
   "execution_count": null,
   "outputs": [],
   "source": [
    "mrp_results_frame = tb.query_mrp_results(mrp_run_date, plant_code, production_plan_id, simulation)\n",
    "logging.info(f\"[{production_plan_id}_{mrp_run_date}_{plant_code}] \"\n",
    "             f\"MRP Results Size: {len(mrp_results_frame)}\")\n",
    "mrp_results_frame = mrp_results_frame.pivot_table(\n",
    "            index=\"production_date\",\n",
    "            columns=[\"part_code\", \"part_color_code\"],\n",
    "            values=\"quantity\",\n",
    "            aggfunc='sum')\n",
    "mrp_results_frame"
   ],
   "metadata": {
    "collapsed": false,
    "pycharm": {
     "name": "#%%\n"
    }
   }
  },
  {
   "cell_type": "code",
   "execution_count": null,
   "outputs": [],
   "source": [
    "merge_logical_parts_columns = mrp_results_frame.columns.tolist()\n",
    "for _col in log_inventory_frame.columns:\n",
    "    if _col not in merge_logical_parts_columns:\n",
    "        merge_logical_parts_columns.append(_col)\n",
    "\n",
    "merge_logical_parts_inv = pd.DataFrame(np.zeros((len(list_mrp_date), len(merge_logical_parts_columns))), index=list_mrp_date)\n",
    "merge_logical_parts_inv.index.names = ['production_date']\n",
    "merge_logical_parts_inv.columns = pd.MultiIndex.from_tuples(merge_logical_parts_columns, names=['part_code', 'part_color_code'])\n",
    "\n",
    "merge_mrp_result_parts = (merge_logical_parts_inv + mrp_results_frame.fillna(0.0)).fillna(0.0)\n",
    "\n",
    "if len(log_inventory_frame) == 0:\n",
    "    merge_logical_parts_inv = merge_logical_parts_inv.fillna(0.0)\n",
    "else:\n",
    "    merge_logical_parts_inv = (merge_logical_parts_inv + log_inventory_frame).fillna(0.0)\n",
    "\n",
    "merge_logical_parts_inv\n"
   ],
   "metadata": {
    "collapsed": false,
    "pycharm": {
     "name": "#%%\n"
    }
   }
  },
  {
   "cell_type": "code",
   "execution_count": null,
   "outputs": [],
   "source": [
    "merge_mrp_result_parts"
   ],
   "metadata": {
    "collapsed": false,
    "pycharm": {
     "name": "#%%\n"
    }
   }
  },
  {
   "cell_type": "code",
   "execution_count": null,
   "outputs": [],
   "source": [
    "final_logical_inventory = merge_logical_parts_inv - merge_mrp_result_parts.cumsum()\n",
    "final_logical_inventory\n"
   ],
   "metadata": {
    "collapsed": false,
    "pycharm": {
     "name": "#%%\n"
    }
   }
  },
  {
   "cell_type": "code",
   "execution_count": null,
   "outputs": [],
   "source": [
    "final_shortage_parts = final_logical_inventory.copy(deep=True)\n",
    "final_shortage_parts = final_shortage_parts.applymap(lambda x: np.minimum(0.0, x))\n",
    "final_shortage_parts = final_shortage_parts - final_shortage_parts.shift(1).copy(deep=True).fillna(0.0)\n",
    "final_shortage_parts\n"
   ],
   "metadata": {
    "collapsed": false,
    "pycharm": {
     "name": "#%%\n"
    }
   }
  },
  {
   "cell_type": "code",
   "execution_count": null,
   "outputs": [],
   "source": [
    "parent_start_timestamp = time.time()\n",
    "# to save Logical Inventory to database\n",
    "log_inventory = final_logical_inventory.loc[\n",
    "    final_logical_inventory.index > datetime.date(datetime.strptime(mrp_run_date, '%Y-%m-%d'))].copy(deep=True)\n",
    "if len(log_inventory) > 0:\n",
    "    # Drop first row by selecting all rows from first row onwards\n",
    "    log_inventory = log_inventory.loc[\n",
    "        log_inventory.index > datetime.date(datetime.strptime(mrp_run_date, \"%Y-%m-%d\"))].copy(deep=True)\n",
    "    log_inventory = log_inventory.stack().reset_index()\n",
    "    log_inventory = log_inventory.set_index(['production_date', 'part_color_code']).stack().reset_index()\n",
    "    log_inventory.rename(columns={log_inventory.columns[-1]: 'quantity'}, inplace=True)\n",
    "\n",
    "    log_inventory[['plant_code']] = plant_code\n",
    "    log_inventory[['created_by']] = user_code\n",
    "    log_inventory[['updated_by']] = user_code\n",
    "\n",
    "    logging.info(f\"[{production_plan_id}_{mrp_run_date}_{plant_code}] \"\n",
    "                 f\"Logical Inventory Size: {len(log_inventory)}\")\n",
    "    logging.debug(f\"[{plant_code}] Logical Inventory:\\n{log_inventory.to_dict(orient='records')}\")\n",
    "    tb.store_logical_inventory_results(log_inventory.to_dict(orient=\"records\"),\n",
    "                                       upsert=False, is_simulation=simulation)\n",
    "    logging.info(f\"[{production_plan_id}_{mrp_run_date}_{plant_code}] \"\n",
    "                 f\"Calculate Logical Inventory finished after: {time.time() - parent_start_timestamp:.2f} sec\")\n"
   ],
   "metadata": {
    "collapsed": false,
    "pycharm": {
     "name": "#%%\n"
    }
   }
  },
  {
   "cell_type": "code",
   "execution_count": null,
   "outputs": [],
   "source": [
    "log_parts_shortage = final_shortage_parts.copy(deep=True)\n",
    "if simulation:\n",
    "    # to save Shortage Parts to database\n",
    "    if log_parts_shortage is not None and len(log_parts_shortage) > 0:\n",
    "        log_parts_shortage = log_parts_shortage.loc[\n",
    "            log_parts_shortage.index > datetime.date(datetime.strptime(mrp_run_date, \"%Y-%m-%d\"))]\n",
    "        log_parts_shortage = log_parts_shortage.stack().reset_index()\n",
    "        log_parts_shortage = log_parts_shortage.set_index(\n",
    "            ['production_date', 'part_color_code']).stack().reset_index()\n",
    "\n",
    "        log_parts_shortage.rename(columns={log_parts_shortage.columns[-1]: 'quantity'}, inplace=True)\n",
    "        # To ignore all positive or zero quantity\n",
    "        log_parts_shortage = log_parts_shortage.loc[log_parts_shortage.quantity < 0].copy(deep=True)\n",
    "\n",
    "        log_parts_shortage[['import_id']] = production_plan_id\n",
    "        log_parts_shortage[['plant_code']] = plant_code\n",
    "        log_parts_shortage[['created_by']] = user_code\n",
    "        log_parts_shortage[['updated_by']] = user_code\n",
    "\n",
    "        logging.info(f\"[{production_plan_id}_{mrp_run_date}_{plant_code}] \"\n",
    "                     f\"Shortage Parts Size: {len(log_parts_shortage)}\")\n",
    "        logging.debug(f\"[{plant_code}] Shortage Parts:\\n{log_parts_shortage.to_dict(orient='records')}\")\n",
    "        # to save Shortage Parts\n",
    "        tb.store_shortage_parts_results(log_parts_shortage.to_dict(orient=\"records\"))\n",
    "        logging.info(f\"[{production_plan_id}_{mrp_run_date}_{plant_code}] \"\n",
    "                     f\"Store Shortage Parts finished after: {time.time() - parent_start_timestamp:.2f} sec\")\n"
   ],
   "metadata": {
    "collapsed": false,
    "pycharm": {
     "name": "#%%\n"
    }
   }
  }
 ],
 "metadata": {
  "kernelspec": {
   "display_name": "Python 3",
   "language": "python",
   "name": "python3"
  },
  "language_info": {
   "codemirror_mode": {
    "name": "ipython",
    "version": 2
   },
   "file_extension": ".py",
   "mimetype": "text/x-python",
   "name": "python",
   "nbconvert_exporter": "python",
   "pygments_lexer": "ipython2",
   "version": "2.7.6"
  }
 },
 "nbformat": 4,
 "nbformat_minor": 0
}