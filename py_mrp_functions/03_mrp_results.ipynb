{
 "cells": [
  {
   "cell_type": "code",
   "execution_count": null,
   "metadata": {
    "collapsed": true,
    "pycharm": {
     "name": "#%%\n"
    }
   },
   "outputs": [],
   "source": [
    "import os\n",
    "from datetime import datetime\n",
    "import pandas as pd\n",
    "from sqlalchemy import create_engine, text\n",
    "import time\n",
    "import numpy as np\n",
    "import dotenv\n",
    "\n",
    "dotenv.load_dotenv(\".env.local\")\n",
    "# dotenv.load_dotenv(\".env.kpzdev\")\n",
    "\n",
    "from test_unit.tasks_unit1 import UnitTask1\n",
    "from mrp_functions.base_tasks import TaskBase\n",
    "from mrp_functions import logging\n",
    "import re\n",
    "\n",
    "np.__version__\n",
    "\n",
    "part_group=os.environ['PART_GROUP']\n",
    "contract_code=os.environ['CONTRACT_CODE']\n",
    "mrp_run_date=os.environ['MRP_RUN_DATE']\n",
    "msc_code=os.environ['MSC_CODE']\n",
    "plant_code=os.environ['PLANT_CODE']\n",
    "production_plan_id=int(os.environ['PRODUCTION_PLAN_ID'])\n",
    "user_code=int(os.environ['USER_CODE'])\n",
    "simulation=bool(int(os.environ['SIMULATION']))\n",
    "vehicle_color_code=os.environ['VEHICLE_COLOR_CODE']\n",
    "\n",
    "tb = TaskBase()\n",
    "tb.db_connection_health_check()"
   ]
  },
  {
   "cell_type": "code",
   "execution_count": null,
   "outputs": [],
   "source": [
    "# Validate MRP Data Before Running\n",
    "tb.query_msc_volume_from_production_plan(production_plan_id, msc_code, vehicle_color_code,\n",
    "                                         mrp_run_date, plant_code, count=True)"
   ],
   "metadata": {
    "collapsed": false,
    "pycharm": {
     "name": "#%%\n"
    }
   }
  },
  {
   "cell_type": "code",
   "execution_count": null,
   "outputs": [],
   "source": [
    "# Get end date of production plan\n",
    "end_date_of_prod_plan = tb.query_end_date_from_production_plan(production_plan_id)\n",
    "if end_date_of_prod_plan is None:\n",
    "    raise ValueError(\"Production Plan End Date is None!\")\n",
    "# Get list of all date from N to N+6 to end of production Plan\n",
    "list_mrp_date = tb.query_list_date_from_Nplus1_to_Nplus6_definition(mrp_run_date, end_date_of_prod_plan)\n",
    "print(f\"[{msc_code}_{production_plan_id}_{mrp_run_date}_{plant_code}] Inventory Forecast From: {list_mrp_date[0]} To: {list_mrp_date[-1]}\")\n"
   ],
   "metadata": {
    "collapsed": false,
    "pycharm": {
     "name": "#%%\n"
    }
   }
  },
  {
   "cell_type": "code",
   "execution_count": null,
   "outputs": [],
   "source": [
    "list_msc_plant_code = tb.query_list_distinct_msc_from_production_plan(production_plan_id)\n",
    "print(f'[{msc_code}_{production_plan_id}_{mrp_run_date}_{plant_code}] Number of MSCs from Production Plan: {len(list_msc_plant_code)}')\n",
    "pd.DataFrame(list_msc_plant_code, columns=['MSC', 'Vehicle Color', 'Plant Code'])"
   ],
   "metadata": {
    "collapsed": false,
    "pycharm": {
     "name": "#%%\n"
    }
   }
  },
  {
   "cell_type": "code",
   "execution_count": null,
   "outputs": [],
   "source": [
    "# For each MSC, to query all part required from BOM Master Table\n",
    "each_msc_parts_need_frame = tb.query_parts_of_msc_from_boms(msc_code, plant_code)\n",
    "# each_msc_parts_need_frame.loc[each_msc_parts_need_frame['part_code'] == '994630620B']\n",
    "each_msc_parts_need_frame"
   ],
   "metadata": {
    "collapsed": false,
    "pycharm": {
     "name": "#%%\n"
    }
   }
  },
  {
   "cell_type": "code",
   "execution_count": null,
   "outputs": [],
   "source": [
    "# For each MSC, to query all production volume from Production Table\n",
    "production_volume = tb.query_msc_volume_from_production_plan(production_plan_id, msc_code, vehicle_color_code,\n",
    "                                                             mrp_run_date, plant_code)\n",
    "production_volume"
   ],
   "metadata": {
    "collapsed": false,
    "pycharm": {
     "name": "#%%\n"
    }
   }
  },
  {
   "cell_type": "code",
   "execution_count": null,
   "outputs": [],
   "source": [
    "# Get list of unique vehicle color\n",
    "msc_list_distinct_vehicle_color = production_volume.vehicle_color_code.unique().tolist()\n",
    "msc_list_distinct_vehicle_color"
   ],
   "metadata": {
    "collapsed": false,
    "pycharm": {
     "name": "#%%\n"
    }
   }
  },
  {
   "cell_type": "code",
   "execution_count": null,
   "outputs": [],
   "source": [
    "# 3 Filter Part Color Code XX\n",
    "parts_with_color_xx = each_msc_parts_need_frame.loc[each_msc_parts_need_frame['part_color_code'] == 'XX']\n",
    "parts_with_color_xx"
   ],
   "metadata": {
    "collapsed": false,
    "pycharm": {
     "name": "#%%\n"
    }
   }
  },
  {
   "cell_type": "code",
   "execution_count": null,
   "outputs": [],
   "source": [
    "# Find and replace Color XX with Color Code found in Database\n",
    "each_msc_parts_need_frame = tb.query_parts_of_msc_from_boms(msc_code, plant_code)\n",
    "# each_msc_parts_need_frame['vehicle_color_code'] = np.NaN\n",
    "# for part_code in parts_with_color_xx['part_code'].unique().tolist():\n",
    "for part_color_xx_idx in parts_with_color_xx.index:\n",
    "    for vehicle_color_code in msc_list_distinct_vehicle_color:\n",
    "        part_code = parts_with_color_xx.loc[part_color_xx_idx, ['part_code']].item()\n",
    "        color_code_for_xx = tb.query_part_color_xx(part_code, vehicle_color_code, plant_code)\n",
    "        if color_code_for_xx is not None:\n",
    "            # Assign color code for XX\n",
    "            each_msc_parts_need_frame.loc[part_color_xx_idx, ['part_color_code']] = color_code_for_xx\n",
    "\n",
    "each_msc_parts_need_frame"
   ],
   "metadata": {
    "collapsed": false,
    "pycharm": {
     "name": "#%%\n"
    }
   }
  },
  {
   "cell_type": "code",
   "execution_count": null,
   "outputs": [],
   "source": [
    "print(type(each_msc_parts_need_frame['bom_ecn_in_date'][0]))\n",
    "print(type(production_volume.iloc[0].plan_date))"
   ],
   "metadata": {
    "collapsed": false,
    "pycharm": {
     "name": "#%%\n"
    }
   }
  },
  {
   "cell_type": "code",
   "execution_count": null,
   "outputs": [],
   "source": [
    "volume_parts_list_2 = []\n",
    "\n",
    "for idx in production_volume.index:\n",
    "    row = production_volume.iloc[idx]\n",
    "    vf = each_msc_parts_need_frame.loc[((pd.isna(each_msc_parts_need_frame['bom_ecn_in_date'])) | (each_msc_parts_need_frame['bom_ecn_in_date'] <= row.plan_date)) &\n",
    "                                      ((pd.isna(each_msc_parts_need_frame['bom_ecn_out_date'])) | (each_msc_parts_need_frame['bom_ecn_out_date'] >= row.plan_date)) &\n",
    "                                      ((pd.isna(each_msc_parts_need_frame['part_ecn_in_date'])) | (each_msc_parts_need_frame['part_ecn_in_date'] <= row.plan_date)) &\n",
    "                                      ((pd.isna(each_msc_parts_need_frame['part_ecn_out_date'])) | (each_msc_parts_need_frame['part_ecn_out_date'] >= row.plan_date)),\n",
    "                                       [\"msc_code\", \"part_code\", \"part_color_code\", \"part_quantity\", \"plant_code\"]].copy(deep=True)\n",
    "    if isinstance(vf, pd.Series):\n",
    "        vf['production_date'] = row.plan_date\n",
    "        vf['vehicle_color_code'] = row.vehicle_color_code\n",
    "        vf['production_volume'] = row.volume\n",
    "        vf['part_requirement_quantity'] = vf['part_quantity'] * row.volume\n",
    "        list_f = [vf.to_dict()]\n",
    "    else:\n",
    "        vf['part_requirement_quantity'] = vf[['part_quantity']] * row.volume\n",
    "        vf.loc[:, ['production_date']] = row.plan_date\n",
    "        vf.loc[:, ['vehicle_color_code']] = row.vehicle_color_code\n",
    "        vf.loc[:, ['production_volume']] = row.volume\n",
    "        list_f = vf.to_dict(orient='records')\n",
    "    volume_parts_list_2.extend(list_f)\n",
    "# ht = pd.DataFrame(volume_parts_list_2)\n",
    "# ht.loc[(ht['part_code'] == '994630620B') & (ht['production_date'] == '2022-09-18')]\n",
    "pd.DataFrame(volume_parts_list_2)"
   ],
   "metadata": {
    "collapsed": false,
    "pycharm": {
     "name": "#%%\n"
    }
   }
  },
  {
   "cell_type": "code",
   "execution_count": null,
   "outputs": [],
   "source": [
    "# to save MRP Results\n",
    "mrp_parts_quantity = pd.DataFrame(volume_parts_list_2)\n",
    "mrp_parts_quantity = mrp_parts_quantity.loc[~mrp_parts_quantity.duplicated(keep='first')]\n",
    "mrp_parts_quantity[['import_id']] = production_plan_id\n",
    "mrp_parts_quantity[['created_by']] = user_code\n",
    "mrp_parts_quantity[['updated_by']] = user_code\n",
    "# parent_start_timestamp = time.time()\n",
    "# # tb.store_mrp_results(mrp_parts_quantity.to_dict(orient=\"records\"), simulation)\n",
    "#\n",
    "# logging.info(f\"[{msc_code}_{production_plan_id}_{mrp_run_date}_{plant_code}] \"\n",
    "#              f\"Store MRP Result finished after: {time.time() - parent_start_timestamp:.2f} sec\")\n",
    "\n",
    "mrp_parts_quantity\n"
   ],
   "metadata": {
    "collapsed": false,
    "pycharm": {
     "name": "#%%\n"
    }
   }
  },
  {
   "cell_type": "code",
   "execution_count": null,
   "outputs": [],
   "source": [
    "# Store MRP to DB\n",
    "# Convert List of Series to DataFrame\n",
    "mrp_parts_quantity = pd.DataFrame(volume_parts_list).set_index(\n",
    "    ['production_date', 'msc_code', 'vehicle_color_code', 'production_volume']).fillna(0.0)\n",
    "# Drop Multi-Index vehicle_color_code\n",
    "mrp_parts_quantity = mrp_parts_quantity.droplevel(10, axis=1)\n",
    "mrp_parts_quantity = mrp_parts_quantity.droplevel(9, axis=1)\n",
    "mrp_parts_quantity = mrp_parts_quantity.droplevel(8, axis=1)\n",
    "mrp_parts_quantity = mrp_parts_quantity.droplevel(7, axis=1)\n",
    "mrp_parts_quantity = mrp_parts_quantity.droplevel(6, axis=1)\n",
    "mrp_parts_quantity = mrp_parts_quantity.droplevel(5, axis=1)\n",
    "mrp_parts_quantity = mrp_parts_quantity.droplevel(4, axis=1)\n",
    "mrp_parts_quantity = mrp_parts_quantity.droplevel(3, axis=1)\n",
    "mrp_parts_quantity = mrp_parts_quantity.droplevel(2, axis=1)\n",
    "\n",
    "# mrp_parts_quantity = mrp_parts_quantity.loc[\n",
    "#     mrp_parts_quantity.index.get_level_values('production_date') > pd.to_datetime((datetime.strptime(mrp_run_date, \"%Y-%m-%d\")))]\n",
    "\n",
    "mrp_parts_quantity"
   ],
   "metadata": {
    "collapsed": false,
    "pycharm": {
     "name": "#%%\n"
    }
   }
  },
  {
   "cell_type": "code",
   "execution_count": null,
   "outputs": [],
   "source": [
    "mrp_parts_quantity = mrp_parts_quantity.loc[:, ~mrp_parts_quantity.columns.duplicated(keep='first')]\n",
    "mrp_parts_quantity"
   ],
   "metadata": {
    "collapsed": false,
    "pycharm": {
     "name": "#%%\n"
    }
   }
  },
  {
   "cell_type": "code",
   "execution_count": null,
   "outputs": [],
   "source": [
    "mrp_parts_quantity = mrp_parts_quantity.stack().reset_index().set_index([\n",
    "    'production_date', 'production_volume', 'msc_code', 'vehicle_color_code', 'part_color_code']).stack().reset_index()\n",
    "mrp_parts_quantity.rename(columns={mrp_parts_quantity.columns[-1]: 'part_requirement_quantity'}, inplace=True)\n",
    "mrp_parts_quantity"
   ],
   "metadata": {
    "collapsed": false,
    "pycharm": {
     "name": "#%%\n"
    }
   }
  },
  {
   "cell_type": "code",
   "execution_count": null,
   "outputs": [],
   "source": [
    "mrp_parts_quantity.loc[mrp_parts_quantity['part_code'] == '9946JU16B']"
   ],
   "metadata": {
    "collapsed": false,
    "pycharm": {
     "name": "#%%\n"
    }
   }
  },
  {
   "cell_type": "code",
   "execution_count": null,
   "outputs": [],
   "source": [
    "# to save MRP Results\n",
    "mrp_parts_quantity[['import_id']] = production_plan_id\n",
    "mrp_parts_quantity[['plant_code']] = plant_code\n",
    "mrp_parts_quantity[['created_by']] = user_code\n",
    "mrp_parts_quantity[['updated_by']] = user_code\n",
    "\n",
    "parent_start_timestamp = time.time()\n",
    "# tb.store_mrp_results(mrp_parts_quantity.to_dict(orient=\"records\"), simulation)\n",
    "\n",
    "logging.info(f\"[{msc_code}_{production_plan_id}_{mrp_run_date}_{plant_code}] \"\n",
    "             f\"Store MRP Result finished after: {time.time() - parent_start_timestamp:.2f} sec\")\n"
   ],
   "metadata": {
    "collapsed": false,
    "pycharm": {
     "name": "#%%\n"
    }
   }
  }
 ],
 "metadata": {
  "kernelspec": {
   "display_name": "Python 3",
   "language": "python",
   "name": "python3"
  },
  "language_info": {
   "codemirror_mode": {
    "name": "ipython",
    "version": 2
   },
   "file_extension": ".py",
   "mimetype": "text/x-python",
   "name": "python",
   "nbconvert_exporter": "python",
   "pygments_lexer": "ipython2",
   "version": "2.7.6"
  }
 },
 "nbformat": 4,
 "nbformat_minor": 0
}