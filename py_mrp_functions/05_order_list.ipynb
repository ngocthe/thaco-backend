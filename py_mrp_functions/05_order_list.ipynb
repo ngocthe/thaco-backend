{
 "cells": [
  {
   "cell_type": "code",
   "execution_count": null,
   "outputs": [],
   "source": [
    "import datetime\n",
    "import pandas as pd\n",
    "from sqlalchemy import create_engine, text\n",
    "import time\n",
    "import numpy as np\n",
    "import dotenv\n",
    "import os\n",
    "# dotenv.load_dotenv(\".env.local\")\n",
    "dotenv.load_dotenv(\".env.kpzdev\")\n",
    "\n",
    "from mrp_functions.base_tasks import TaskBase\n",
    "import re\n",
    "\n",
    "\n",
    "np.__version__\n",
    "\n",
    "tb = TaskBase()\n",
    "part_group=os.environ['PART_GROUP']\n",
    "contract_code=os.environ['CONTRACT_CODE']\n",
    "mrp_run_date=os.environ['MRP_RUN_DATE']\n",
    "msc_code=os.environ['MSC_CODE']\n",
    "plant_code=os.environ['PLANT_CODE']\n",
    "production_plan_id=int(os.environ['PRODUCTION_PLAN_ID'])\n",
    "user_code=int(os.environ['USER_CODE'])\n",
    "simulation=bool(os.environ['SIMULATION'])\n",
    "\n",
    "mrp_or_calendar_frame = tb.query_mrp_order_calendars(part_group, contract_code)\n",
    "\n",
    "if mrp_or_calendar_frame is None or len(mrp_or_calendar_frame) == 0:\n",
    "    raise ValueError(f\"MRP Ordering Calendar Not Found for Part Group: {part_group} and Contract Code: {contract_code}\")\n",
    "\n",
    "mrp_or_calendar_frame"
   ],
   "metadata": {
    "collapsed": false,
    "pycharm": {
     "name": "#%%\n"
    }
   }
  },
  {
   "cell_type": "code",
   "execution_count": null,
   "outputs": [],
   "source": [
    "# Target From: W4-09/2022. Target To: W2-10/2022. Buffer: W1-11/2022~W2-11/2022\n",
    "target_from = 'W4-09/2022'\n",
    "target_to = 'W2-10/2022'\n",
    "buffer_from = 'W1-11/2022'\n",
    "buffer_to = 'W2-11/2022'\n",
    "re.split(\"\\D\", target_from)\n",
    "_, target_from_week, target_from_month_no, target_from_year = re.split(\"\\D\", target_from)\n",
    "_, target_to_week, target_to_month_no, target_to_year = re.split(\"\\D\", target_to)\n",
    "if buffer_from is not None and len(buffer_from) > 0 and buffer_to is not None and len(buffer_to) > 0:\n",
    "    _, buffer_from_week, buffer_from_month_no, buffer_from_year = re.split(\"\\D\", buffer_from)\n",
    "    _, buffer_to_week, buffer_to_month_no, buffer_to_year = re.split(\"\\D\", buffer_to)\n",
    "\n",
    "    target_date = tb.query_date_from_week_definition(target_from_week, target_from_month_no, target_from_year,\n",
    "                                                     buffer_to_week, buffer_to_month_no, buffer_to_year)\n",
    "else:\n",
    "    target_date = tb.query_date_from_week_definition(target_from_week, target_from_month_no, target_from_year,\n",
    "                                                     target_to_week, target_to_month_no, target_to_year)\n",
    "\n",
    "print(f\"[{contract_code}_{part_group}_{production_plan_id}_{mrp_run_date}] \"\n",
    "      f\"Target From: {target_from}. Target To: {target_to}. Buffer: {buffer_from}~{buffer_to}\")\n",
    "if target_date is None or len(target_date) == 0:\n",
    "    raise ValueError(f\"Target Plan is invalid\")\n",
    "\n",
    "print(f\"[{contract_code}_{part_group}_{production_plan_id}_{mrp_run_date}] \"\n",
    "      f\"Target Date: {target_date[0]} To: {target_date[-1]}\")"
   ],
   "metadata": {
    "collapsed": false,
    "pycharm": {
     "name": "#%%\n"
    }
   }
  },
  {
   "cell_type": "code",
   "execution_count": null,
   "outputs": [],
   "source": [
    "target_from, target_to, buffer_from, buffer_to = mrp_or_calendar_frame.loc[0, [\"target_plan_from\", \"target_plan_to\", \"buffer_span_from\", \"buffer_span_to\"]].values\n",
    "print(target_from)\n",
    "print(target_to)\n",
    "print(buffer_from)\n",
    "print(buffer_to)\n",
    "\n",
    "_, target_from_week, target_from_month_no, target_from_year = re.split(\"\\D\", target_from)\n",
    "_, target_to_week, target_to_month_no, target_to_year = re.split(\"\\D\", target_to)\n",
    "if buffer_from is not None and len(buffer_from) > 0 and buffer_to is not None and len(buffer_to) > 0:\n",
    "    _, buffer_from_week, buffer_from_month_no, buffer_from_year = re.split(\"\\D\", buffer_from)\n",
    "    _, buffer_to_week, buffer_to_month_no, buffer_to_year = re.split(\"\\D\", buffer_to)\n",
    "\n",
    "    target_date = tb.query_date_from_week_definition(target_from_week, target_from_month_no, target_from_year,\n",
    "                                                     buffer_to_week, buffer_to_month_no, buffer_to_year)\n",
    "else:\n",
    "    target_date = tb.query_date_from_week_definition(target_from_week, target_from_month_no, target_from_year,\n",
    "                                                     target_to_week, target_to_month_no, target_to_year)\n",
    "if len(target_date) > 1:\n",
    "    print(target_date[0])\n",
    "    print(target_date[-1])"
   ],
   "metadata": {
    "collapsed": false,
    "pycharm": {
     "name": "#%%\n"
    }
   }
  },
  {
   "cell_type": "code",
   "execution_count": null,
   "outputs": [],
   "source": [
    "print(target_date[0])\n",
    "print(target_date[-1])\n",
    "\n",
    "print(f\"[{contract_code}_{part_group}_{production_plan_id}_{mrp_run_date}] \"\n",
    "      f\"Check shortage within production plan !\")\n",
    "shortage_parts = tb.query_shortage_parts(mrp_run_date, production_plan_id, part_group, target_date[0], target_date[-1])\n",
    "shortage_parts"
   ],
   "metadata": {
    "collapsed": false,
    "pycharm": {
     "name": "#%%\n"
    }
   }
  },
  {
   "cell_type": "code",
   "execution_count": null,
   "outputs": [],
   "source": [
    "shortage_parts = shortage_parts.loc[~shortage_parts.duplicated(keep='first')]"
   ],
   "metadata": {
    "collapsed": false,
    "pycharm": {
     "name": "#%%\n"
    }
   }
  },
  {
   "cell_type": "code",
   "execution_count": null,
   "outputs": [],
   "source": [
    "shortage_parts.groupby([\"part_code\", \"part_color_code\", \"part_group\", \"supplier_code\",\n",
    "                                                 \"minimum_order_quantity\", \"standard_box_quantity\",\n",
    "                                                 \"part_quantity_in_box\", \"import_id\", \"plant_code\"\n",
    "                                                 ]).agg({\"quantity\": sum})\n"
   ],
   "metadata": {
    "collapsed": false,
    "pycharm": {
     "name": "#%%\n"
    }
   }
  },
  {
   "cell_type": "code",
   "execution_count": null,
   "outputs": [],
   "source": [
    "\n",
    "order_list = shortage_parts[(shortage_parts['production_date'] >= target_date.iloc[0].date) &\n",
    "                                    (shortage_parts['production_date'] <= target_date.iloc[-1].date)] \\\n",
    "            .groupby([\"part_code\", \"part_color_code\", \"part_group\", \"supplier_code\",\n",
    "                      \"minimum_order_quantity\", \"standard_box_quantity\", \"part_quantity_in_box\", \"import_id\",\n",
    "                      \"plant_code\"\n",
    "                      ]).agg({\"quantity\": sum})\n",
    "\n",
    "order_list.to_dict(\"records\")\n"
   ],
   "metadata": {
    "collapsed": false,
    "pycharm": {
     "name": "#%%\n"
    }
   }
  },
  {
   "cell_type": "code",
   "execution_count": null,
   "outputs": [],
   "source": [
    "order_list.reset_index(inplace=True)\n",
    "\n",
    "order_list[['eta']] = mrp_or_calendar_frame.iloc[0].eta\n",
    "order_list[['contract_code']] = mrp_or_calendar_frame.iloc[0].contract_code\n",
    "order_list.to_dict(\"records\")\n"
   ],
   "metadata": {
    "collapsed": false,
    "pycharm": {
     "name": "#%%\n"
    }
   }
  },
  {
   "cell_type": "code",
   "execution_count": null,
   "outputs": [],
   "source": [
    "result = order_list.copy(deep=True)\n",
    "\n",
    "result['quantity'] = result.apply(\n",
    "                lambda row: np.multiply(row['part_quantity_in_box'],\n",
    "                                        np.ceil(np.divide(np.max((np.abs(row['quantity']), row['minimum_order_quantity'])),\n",
    "                                                          row['part_quantity_in_box']))), axis=1)\n",
    "\n",
    "# result[['quantity']] = np.multiply(np.ceil(\n",
    "#     (np.max((0 - result[['quantity']], result[['minimum_order_quantity']]))) /\n",
    "#     np.multiply(result[['standard_box_quantity']], result[['part_quantity_in_box']])\n",
    "# ), result[['standard_box_quantity']], result[['part_quantity_in_box']])\n",
    "result.to_dict(\"records\")\n",
    "\n"
   ],
   "metadata": {
    "collapsed": false,
    "pycharm": {
     "name": "#%%\n"
    }
   }
  }
 ],
 "metadata": {
  "kernelspec": {
   "display_name": "Python 3",
   "language": "python",
   "name": "python3"
  },
  "language_info": {
   "codemirror_mode": {
    "name": "ipython",
    "version": 2
   },
   "file_extension": ".py",
   "mimetype": "text/x-python",
   "name": "python",
   "nbconvert_exporter": "python",
   "pygments_lexer": "ipython2",
   "version": "2.7.6"
  }
 },
 "nbformat": 4,
 "nbformat_minor": 0
}