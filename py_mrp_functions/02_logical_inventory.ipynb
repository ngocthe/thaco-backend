{
 "cells": [
  {
   "cell_type": "code",
   "execution_count": null,
   "outputs": [],
   "source": [
    "import os\n",
    "from datetime import datetime\n",
    "import pandas as pd\n",
    "from sqlalchemy import create_engine, text\n",
    "import time\n",
    "import numpy as np\n",
    "import dotenv\n",
    "\n",
    "dotenv.load_dotenv(\".env.local\")\n",
    "\n",
    "from test_unit.tasks_unit1 import UnitTask1\n",
    "from mrp_functions.base_tasks import TaskBase\n",
    "from mrp_functions import logging\n",
    "import re\n",
    "\n",
    "np.__version__\n",
    "\n",
    "part_group=os.environ['PART_GROUP']\n",
    "contract_code=os.environ['CONTRACT_CODE']\n",
    "mrp_run_date=os.environ['MRP_RUN_DATE']\n",
    "msc_code=os.environ['MSC_CODE']\n",
    "plant_code=os.environ['PLANT_CODE']\n",
    "production_plan_id=int(os.environ['PRODUCTION_PLAN_ID'])\n",
    "user_code=int(os.environ['USER_CODE'])\n",
    "simulation=bool(int(os.environ['SIMULATION']))\n",
    "\n",
    "tb = TaskBase()\n",
    "tb.db_connection_health_check()"
   ],
   "metadata": {
    "collapsed": false,
    "pycharm": {
     "name": "#%%\n"
    }
   }
  },
  {
   "cell_type": "code",
   "execution_count": null,
   "outputs": [],
   "source": [
    "# Get end date of production plan\n",
    "end_date_of_prod_plan = tb.query_end_date_from_production_plan(production_plan_id)\n",
    "if end_date_of_prod_plan is None:\n",
    "    raise ValueError(\"Production Plan End Date is None!\")\n",
    "# Get list of all date from N to N+6 to end of production Plan\n",
    "list_mrp_date = tb.query_list_date_from_Nplus1_to_Nplus6_definition(mrp_run_date, end_date_of_prod_plan)\n",
    "print(f\"Inventory Forecast From: {list_mrp_date[0]} To: {list_mrp_date[-1]}\")\n"
   ],
   "metadata": {
    "collapsed": false,
    "pycharm": {
     "name": "#%%\n"
    }
   }
  },
  {
   "cell_type": "code",
   "execution_count": null,
   "outputs": [],
   "source": [
    "# Get list of order which has ETA in that time\n",
    "list_order_eta_in_chunk = tb.query_current_logical_inventory_w_order_list_eta(mrp_run_date, plant_code)\n",
    "# Convert order to Logical Inventory Forecast and Upsert to Logical Inventory\n",
    "for list_order_eta in list_order_eta_in_chunk:\n",
    "    list_order_eta = list_order_eta.set_index(['part_code', 'part_color_code'])\n",
    "    break\n",
    "\n",
    "list_order_eta = list_order_eta.pivot_table(\n",
    "            index=\"production_date\",\n",
    "            columns=[\"part_code\", \"part_color_code\"],\n",
    "            values=\"quantity\",\n",
    "            aggfunc='sum')\n",
    "list_order_eta"
   ],
   "metadata": {
    "collapsed": false,
    "pycharm": {
     "name": "#%%\n"
    }
   }
  },
  {
   "cell_type": "code",
   "execution_count": null,
   "outputs": [],
   "source": [
    "sim_logical_parts_inv = pd.DataFrame(np.zeros((len(list_mrp_date), len(list_order_eta.columns))),\n",
    "                                       index=list_mrp_date)\n",
    "sim_logical_parts_inv.index.names = ['production_date']\n",
    "sim_logical_parts_inv.columns = pd.MultiIndex.from_tuples(list_order_eta.columns,\n",
    "                                                            names=['part_code', 'part_color_code'])\n",
    "sim_logical_parts_inv = (sim_logical_parts_inv + list_order_eta).fillna(0.0)\n",
    "sim_logical_parts_inv"
   ],
   "metadata": {
    "collapsed": false,
    "pycharm": {
     "name": "#%%\n"
    }
   }
  },
  {
   "cell_type": "code",
   "execution_count": null,
   "outputs": [],
   "source": [
    "sim_logical_parts_inv = sim_logical_parts_inv.stack().reset_index()\n",
    "sim_logical_parts_inv = sim_logical_parts_inv.set_index(['production_date', 'part_color_code']).stack().reset_index()\n",
    "sim_logical_parts_inv.rename(columns={sim_logical_parts_inv.columns[-1]: 'quantity'}, inplace=True)\n",
    "\n",
    "sim_logical_parts_inv['plant_code'] = plant_code\n",
    "sim_logical_parts_inv['created_by'] = user_code\n",
    "sim_logical_parts_inv['updated_by'] = user_code\n",
    "sim_logical_parts_inv"
   ],
   "metadata": {
    "collapsed": false,
    "pycharm": {
     "name": "#%%\n"
    }
   }
  },
  {
   "cell_type": "code",
   "execution_count": null,
   "outputs": [],
   "source": [
    "# Get list of order which has ETA in that time\n",
    "list_order_eta_in_chunk = tb.query_current_logical_inventory_w_order_list_eta(mrp_run_date, plant_code)\n",
    "# Convert order to Logical Inventory Forecast and Upsert to Logical Inventory\n",
    "for list_order_eta in list_order_eta_in_chunk:\n",
    "    list_order_eta = list_order_eta.pivot_table(\n",
    "            index=\"production_date\",\n",
    "            columns=[\"part_code\", \"part_color_code\"],\n",
    "            values=\"quantity\",\n",
    "            aggfunc='sum')\n",
    "\n",
    "    sim_logical_parts_inv = pd.DataFrame(np.zeros((len(list_mrp_date), len(list_order_eta.columns))),\n",
    "                                           index=list_mrp_date)\n",
    "    sim_logical_parts_inv.index.names = ['production_date']\n",
    "    sim_logical_parts_inv.columns = pd.MultiIndex.from_tuples(list_order_eta.columns,\n",
    "                                                                names=['part_code', 'part_color_code'])\n",
    "    sim_logical_parts_inv = (sim_logical_parts_inv + list_order_eta).fillna(0.0)\n",
    "\n",
    "    sim_logical_parts_inv = sim_logical_parts_inv.loc[sim_logical_parts_inv.index > datetime.date(datetime.strptime(mrp_run_date, \"%Y-%m-%d\"))]\n",
    "    sim_logical_parts_inv = sim_logical_parts_inv.stack().reset_index()\n",
    "    sim_logical_parts_inv = sim_logical_parts_inv.set_index(['production_date', 'part_color_code']).stack().reset_index()\n",
    "    sim_logical_parts_inv.rename(columns={sim_logical_parts_inv.columns[-1]: 'quantity'}, inplace=True)\n",
    "\n",
    "    sim_logical_parts_inv['plant_code'] = plant_code\n",
    "    sim_logical_parts_inv['created_by'] = user_code\n",
    "    sim_logical_parts_inv['updated_by'] = user_code\n",
    "    # tb.store_logical_inventory_results(sim_logical_parts_inv.to_dict(orient=\"records\"),\n",
    "    #                                    upsert=True, is_simulation=simulation)\n",
    "sim_logical_parts_inv\n",
    "\n",
    "# FINISH PREPARE LOGICAL INVENTORY WITH FUTURE ORDER ETA !\n"
   ],
   "metadata": {
    "collapsed": false,
    "pycharm": {
     "name": "#%%\n"
    }
   }
  },
  {
   "cell_type": "code",
   "execution_count": null,
   "outputs": [],
   "source": [
    "sim_logical_parts_inv = pd.DataFrame(np.zeros((len(list_mrp_date), len(list_order_eta.columns))),\n",
    "                                       index=list_mrp_date)\n",
    "sim_logical_parts_inv.index.names = ['production_date']\n",
    "sim_logical_parts_inv.columns = pd.MultiIndex.from_tuples(list_order_eta.columns,\n",
    "                                                            names=['part_code', 'part_color_code'])\n",
    "sim_logical_parts_inv = (sim_logical_parts_inv + list_order_eta).fillna(0.0)\n",
    "sim_logical_parts_inv"
   ],
   "metadata": {
    "collapsed": false,
    "pycharm": {
     "name": "#%%\n"
    }
   }
  },
  {
   "cell_type": "code",
   "execution_count": null,
   "outputs": [],
   "source": [
    "sim_logical_parts_inv = sim_logical_parts_inv.stack().reset_index()\n",
    "sim_logical_parts_inv = sim_logical_parts_inv.set_index(['production_date', 'part_color_code']).stack().reset_index()\n",
    "sim_logical_parts_inv.rename(columns={sim_logical_parts_inv.columns[-1]: 'quantity'}, inplace=True)\n",
    "\n",
    "sim_logical_parts_inv['plant_code'] = plant_code\n",
    "sim_logical_parts_inv['created_by'] = user_code\n",
    "sim_logical_parts_inv['updated_by'] = user_code\n",
    "sim_logical_parts_inv"
   ],
   "metadata": {
    "collapsed": false,
    "pycharm": {
     "name": "#%%\n"
    }
   }
  },
  {
   "cell_type": "code",
   "execution_count": null,
   "outputs": [],
   "source": [
    "# Get list of order which has ETA in that time\n",
    "list_order_eta_in_chunk = tb.query_current_logical_inventory_w_order_list_eta(mrp_run_date, plant_code)\n",
    "# Convert order to Logical Inventory Forecast and Upsert to Logical Inventory\n",
    "for list_order_eta in list_order_eta_in_chunk:\n",
    "    list_order_eta = list_order_eta.pivot_table(\n",
    "            index=\"production_date\",\n",
    "            columns=[\"part_code\", \"part_color_code\"],\n",
    "            values=\"quantity\",\n",
    "            aggfunc='sum')\n",
    "\n",
    "    sim_logical_parts_inv = pd.DataFrame(np.zeros((len(list_mrp_date), len(list_order_eta.columns))),\n",
    "                                           index=list_mrp_date)\n",
    "    sim_logical_parts_inv.index.names = ['production_date']\n",
    "    sim_logical_parts_inv.columns = pd.MultiIndex.from_tuples(list_order_eta.columns,\n",
    "                                                                names=['part_code', 'part_color_code'])\n",
    "    sim_logical_parts_inv = (sim_logical_parts_inv + list_order_eta).fillna(0.0)\n",
    "\n",
    "    sim_logical_parts_inv = sim_logical_parts_inv.loc[sim_logical_parts_inv.index > datetime.date(datetime.strptime(mrp_run_date, \"%Y-%m-%d\"))]\n",
    "    sim_logical_parts_inv = sim_logical_parts_inv.stack().reset_index()\n",
    "    sim_logical_parts_inv = sim_logical_parts_inv.set_index(['production_date', 'part_color_code']).stack().reset_index()\n",
    "    sim_logical_parts_inv.rename(columns={sim_logical_parts_inv.columns[-1]: 'quantity'}, inplace=True)\n",
    "\n",
    "    sim_logical_parts_inv['plant_code'] = plant_code\n",
    "    sim_logical_parts_inv['created_by'] = user_code\n",
    "    sim_logical_parts_inv['updated_by'] = user_code\n",
    "    # tb.store_logical_inventory_results(sim_logical_parts_inv.to_dict(orient=\"records\"),\n",
    "    #                                    upsert=True, is_simulation=simulation)\n",
    "sim_logical_parts_inv\n",
    "\n",
    "# FINISH PREPARE LOGICAL INVENTORY WITH FUTURE ORDER ETA !\n"
   ],
   "metadata": {
    "collapsed": false,
    "pycharm": {
     "name": "#%%\n"
    }
   }
  },
  {
   "cell_type": "code",
   "execution_count": null,
   "outputs": [],
   "source": [
    "sim_logical_parts_inv = pd.DataFrame(np.zeros((len(list_mrp_date), len(list_order_eta.columns))),\n",
    "                                       index=list_mrp_date)\n",
    "sim_logical_parts_inv.index.names = ['production_date']\n",
    "sim_logical_parts_inv.columns = pd.MultiIndex.from_tuples(list_order_eta.columns,\n",
    "                                                            names=['part_code', 'part_color_code'])\n",
    "sim_logical_parts_inv = (sim_logical_parts_inv + list_order_eta).fillna(0.0)\n",
    "sim_logical_parts_inv"
   ],
   "metadata": {
    "collapsed": false,
    "pycharm": {
     "name": "#%%\n"
    }
   }
  },
  {
   "cell_type": "code",
   "execution_count": null,
   "outputs": [],
   "source": [
    "sim_logical_parts_inv = sim_logical_parts_inv.stack().reset_index()\n",
    "sim_logical_parts_inv = sim_logical_parts_inv.set_index(['production_date', 'part_color_code']).stack().reset_index()\n",
    "sim_logical_parts_inv.rename(columns={sim_logical_parts_inv.columns[-1]: 'quantity'}, inplace=True)\n",
    "\n",
    "sim_logical_parts_inv['plant_code'] = plant_code\n",
    "sim_logical_parts_inv['created_by'] = user_code\n",
    "sim_logical_parts_inv['updated_by'] = user_code\n",
    "sim_logical_parts_inv"
   ],
   "metadata": {
    "collapsed": false,
    "pycharm": {
     "name": "#%%\n"
    }
   }
  },
  {
   "cell_type": "code",
   "execution_count": null,
   "outputs": [],
   "source": [
    "# Get list of order which has ETA in that time\n",
    "list_order_eta_in_chunk = tb.query_current_logical_inventory_w_order_list_eta(mrp_run_date, plant_code)\n",
    "# Convert order to Logical Inventory Forecast and Upsert to Logical Inventory\n",
    "for list_order_eta in list_order_eta_in_chunk:\n",
    "    list_order_eta = list_order_eta.pivot_table(\n",
    "            index=\"production_date\",\n",
    "            columns=[\"part_code\", \"part_color_code\"],\n",
    "            values=\"quantity\",\n",
    "            aggfunc='sum')\n",
    "\n",
    "    sim_logical_parts_inv = pd.DataFrame(np.zeros((len(list_mrp_date), len(list_order_eta.columns))),\n",
    "                                           index=list_mrp_date)\n",
    "    sim_logical_parts_inv.index.names = ['production_date']\n",
    "    sim_logical_parts_inv.columns = pd.MultiIndex.from_tuples(list_order_eta.columns,\n",
    "                                                                names=['part_code', 'part_color_code'])\n",
    "    sim_logical_parts_inv = (sim_logical_parts_inv + list_order_eta).fillna(0.0)\n",
    "\n",
    "    sim_logical_parts_inv = sim_logical_parts_inv.loc[sim_logical_parts_inv.index > datetime.date(datetime.strptime(mrp_run_date, \"%Y-%m-%d\"))]\n",
    "    sim_logical_parts_inv = sim_logical_parts_inv.stack().reset_index()\n",
    "    sim_logical_parts_inv = sim_logical_parts_inv.set_index(['production_date', 'part_color_code']).stack().reset_index()\n",
    "    sim_logical_parts_inv.rename(columns={sim_logical_parts_inv.columns[-1]: 'quantity'}, inplace=True)\n",
    "\n",
    "    sim_logical_parts_inv['plant_code'] = plant_code\n",
    "    sim_logical_parts_inv['created_by'] = user_code\n",
    "    sim_logical_parts_inv['updated_by'] = user_code\n",
    "    # tb.store_logical_inventory_results(sim_logical_parts_inv.to_dict(orient=\"records\"),\n",
    "    #                                    upsert=True, is_simulation=simulation)\n",
    "sim_logical_parts_inv\n",
    "\n",
    "# FINISH PREPARE LOGICAL INVENTORY WITH FUTURE ORDER ETA !\n"
   ],
   "metadata": {
    "collapsed": false,
    "pycharm": {
     "name": "#%%\n"
    }
   }
  },
  {
   "cell_type": "code",
   "execution_count": null,
   "outputs": [],
   "source": [
    "sim_logical_parts_inv = pd.DataFrame(np.zeros((len(list_mrp_date), len(list_order_eta.columns))),\n",
    "                                       index=list_mrp_date)\n",
    "sim_logical_parts_inv.index.names = ['production_date']\n",
    "sim_logical_parts_inv.columns = pd.MultiIndex.from_tuples(list_order_eta.columns,\n",
    "                                                            names=['part_code', 'part_color_code'])\n",
    "sim_logical_parts_inv = (sim_logical_parts_inv + list_order_eta).fillna(0.0)\n",
    "sim_logical_parts_inv"
   ],
   "metadata": {
    "collapsed": false,
    "pycharm": {
     "name": "#%%\n"
    }
   }
  },
  {
   "cell_type": "code",
   "execution_count": null,
   "outputs": [],
   "source": [
    "sim_logical_parts_inv = sim_logical_parts_inv.stack().reset_index()\n",
    "sim_logical_parts_inv = sim_logical_parts_inv.set_index(['production_date', 'part_color_code']).stack().reset_index()\n",
    "sim_logical_parts_inv.rename(columns={sim_logical_parts_inv.columns[-1]: 'quantity'}, inplace=True)\n",
    "\n",
    "sim_logical_parts_inv['plant_code'] = plant_code\n",
    "sim_logical_parts_inv['created_by'] = user_code\n",
    "sim_logical_parts_inv['updated_by'] = user_code\n",
    "sim_logical_parts_inv"
   ],
   "metadata": {
    "collapsed": false,
    "pycharm": {
     "name": "#%%\n"
    }
   }
  },
  {
   "cell_type": "code",
   "execution_count": null,
   "outputs": [],
   "source": [
    "# Get list of order which has ETA in that time\n",
    "list_order_eta_in_chunk = tb.query_current_logical_inventory_w_order_list_eta(mrp_run_date, plant_code)\n",
    "# Convert order to Logical Inventory Forecast and Upsert to Logical Inventory\n",
    "for list_order_eta in list_order_eta_in_chunk:\n",
    "    list_order_eta = list_order_eta.pivot_table(\n",
    "            index=\"production_date\",\n",
    "            columns=[\"part_code\", \"part_color_code\"],\n",
    "            values=\"quantity\",\n",
    "            aggfunc='sum')\n",
    "\n",
    "    sim_logical_parts_inv = pd.DataFrame(np.zeros((len(list_mrp_date), len(list_order_eta.columns))),\n",
    "                                           index=list_mrp_date)\n",
    "    sim_logical_parts_inv.index.names = ['production_date']\n",
    "    sim_logical_parts_inv.columns = pd.MultiIndex.from_tuples(list_order_eta.columns,\n",
    "                                                                names=['part_code', 'part_color_code'])\n",
    "    sim_logical_parts_inv = (sim_logical_parts_inv + list_order_eta).fillna(0.0)\n",
    "\n",
    "    sim_logical_parts_inv = sim_logical_parts_inv.loc[sim_logical_parts_inv.index > datetime.date(datetime.strptime(mrp_run_date, \"%Y-%m-%d\"))]\n",
    "    sim_logical_parts_inv = sim_logical_parts_inv.stack().reset_index()\n",
    "    sim_logical_parts_inv = sim_logical_parts_inv.set_index(['production_date', 'part_color_code']).stack().reset_index()\n",
    "    sim_logical_parts_inv.rename(columns={sim_logical_parts_inv.columns[-1]: 'quantity'}, inplace=True)\n",
    "\n",
    "    sim_logical_parts_inv['plant_code'] = plant_code\n",
    "    sim_logical_parts_inv['created_by'] = user_code\n",
    "    sim_logical_parts_inv['updated_by'] = user_code\n",
    "    # tb.store_logical_inventory_results(sim_logical_parts_inv.to_dict(orient=\"records\"),\n",
    "    #                                    upsert=True, is_simulation=simulation)\n",
    "sim_logical_parts_inv\n",
    "\n",
    "# FINISH PREPARE LOGICAL INVENTORY WITH FUTURE ORDER ETA !\n"
   ],
   "metadata": {
    "collapsed": false,
    "pycharm": {
     "name": "#%%\n"
    }
   }
  }
 ],
 "metadata": {
  "kernelspec": {
   "display_name": "Python 3",
   "language": "python",
   "name": "python3"
  },
  "language_info": {
   "codemirror_mode": {
    "name": "ipython",
    "version": 2
   },
   "file_extension": ".py",
   "mimetype": "text/x-python",
   "name": "python",
   "nbconvert_exporter": "python",
   "pygments_lexer": "ipython2",
   "version": "2.7.6"
  }
 },
 "nbformat": 4,
 "nbformat_minor": 0
}