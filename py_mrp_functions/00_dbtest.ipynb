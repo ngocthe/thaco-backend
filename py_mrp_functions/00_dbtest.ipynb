{
 "cells": [
  {
   "cell_type": "code",
   "execution_count": 1,
   "metadata": {
    "collapsed": true
   },
   "outputs": [
    {
     "name": "stderr",
     "output_type": "stream",
     "text": [
      "[2022-09-19 22:38:27,214] [root        ] [INFO ]  Init connection engine\n",
      "[2022-09-19 22:38:27,249] [root        ] [INFO ]  DB Connection Closed\n"
     ]
    },
    {
     "data": {
      "text/plain": "'Okay'"
     },
     "execution_count": 1,
     "metadata": {},
     "output_type": "execute_result"
    }
   ],
   "source": [
    "import os\n",
    "from datetime import datetime\n",
    "import pandas as pd\n",
    "from sqlalchemy import create_engine, text\n",
    "import time\n",
    "import numpy as np\n",
    "import dotenv\n",
    "\n",
    "dotenv.load_dotenv(\".env.local\")\n",
    "# dotenv.load_dotenv(\".env.kpzdev\")\n",
    "\n",
    "from test_unit.tasks_unit1 import UnitTask1\n",
    "from mrp_functions.base_tasks import TaskBase\n",
    "from mrp_functions import logging\n",
    "import re\n",
    "\n",
    "np.__version__\n",
    "\n",
    "part_group=os.environ['PART_GROUP']\n",
    "contract_code=os.environ['CONTRACT_CODE']\n",
    "mrp_run_date=os.environ['MRP_RUN_DATE']\n",
    "msc_code=os.environ['MSC_CODE']\n",
    "plant_code=os.environ['PLANT_CODE']\n",
    "production_plan_id=int(os.environ['PRODUCTION_PLAN_ID'])\n",
    "user_code=int(os.environ['USER_CODE'])\n",
    "simulation=bool(int(os.environ['SIMULATION']))\n",
    "vehicle_color_code=os.environ['VEHICLE_COLOR_CODE']\n",
    "\n",
    "tb = TaskBase()\n",
    "tb.db_connection_health_check()"
   ]
  },
  {
   "cell_type": "code",
   "execution_count": 2,
   "outputs": [
    {
     "name": "stderr",
     "output_type": "stream",
     "text": [
      "[2022-09-19 22:38:27,265] [root        ] [INFO ]  Init connection engine\n"
     ]
    },
    {
     "data": {
      "text/plain": "      plan_date msc_code vehicle_color_code  volume  day_off\n0    2022-09-17  TMSC612                 0N       7        0\n1    2022-09-17  TMSC612                 KT       6        0\n2    2022-09-17  TMSC613                 KT       6        0\n3    2022-09-17  TMSC614                 89       1        0\n4    2022-09-17  TMSC615                 KT       9        0\n..          ...      ...                ...     ...      ...\n546  2022-12-31  TMSC612                 KT       1        0\n547  2022-12-31  TMSC613                 KT       1        0\n548  2022-12-31  TMSC614                 89       2        0\n549  2022-12-31  TMSC615                 KT       6        0\n550  2022-12-31  TMSC617                 HU       8        0\n\n[551 rows x 5 columns]",
      "text/html": "<div>\n<style scoped>\n    .dataframe tbody tr th:only-of-type {\n        vertical-align: middle;\n    }\n\n    .dataframe tbody tr th {\n        vertical-align: top;\n    }\n\n    .dataframe thead th {\n        text-align: right;\n    }\n</style>\n<table border=\"1\" class=\"dataframe\">\n  <thead>\n    <tr style=\"text-align: right;\">\n      <th></th>\n      <th>plan_date</th>\n      <th>msc_code</th>\n      <th>vehicle_color_code</th>\n      <th>volume</th>\n      <th>day_off</th>\n    </tr>\n  </thead>\n  <tbody>\n    <tr>\n      <th>0</th>\n      <td>2022-09-17</td>\n      <td>TMSC612</td>\n      <td>0N</td>\n      <td>7</td>\n      <td>0</td>\n    </tr>\n    <tr>\n      <th>1</th>\n      <td>2022-09-17</td>\n      <td>TMSC612</td>\n      <td>KT</td>\n      <td>6</td>\n      <td>0</td>\n    </tr>\n    <tr>\n      <th>2</th>\n      <td>2022-09-17</td>\n      <td>TMSC613</td>\n      <td>KT</td>\n      <td>6</td>\n      <td>0</td>\n    </tr>\n    <tr>\n      <th>3</th>\n      <td>2022-09-17</td>\n      <td>TMSC614</td>\n      <td>89</td>\n      <td>1</td>\n      <td>0</td>\n    </tr>\n    <tr>\n      <th>4</th>\n      <td>2022-09-17</td>\n      <td>TMSC615</td>\n      <td>KT</td>\n      <td>9</td>\n      <td>0</td>\n    </tr>\n    <tr>\n      <th>...</th>\n      <td>...</td>\n      <td>...</td>\n      <td>...</td>\n      <td>...</td>\n      <td>...</td>\n    </tr>\n    <tr>\n      <th>546</th>\n      <td>2022-12-31</td>\n      <td>TMSC612</td>\n      <td>KT</td>\n      <td>1</td>\n      <td>0</td>\n    </tr>\n    <tr>\n      <th>547</th>\n      <td>2022-12-31</td>\n      <td>TMSC613</td>\n      <td>KT</td>\n      <td>1</td>\n      <td>0</td>\n    </tr>\n    <tr>\n      <th>548</th>\n      <td>2022-12-31</td>\n      <td>TMSC614</td>\n      <td>89</td>\n      <td>2</td>\n      <td>0</td>\n    </tr>\n    <tr>\n      <th>549</th>\n      <td>2022-12-31</td>\n      <td>TMSC615</td>\n      <td>KT</td>\n      <td>6</td>\n      <td>0</td>\n    </tr>\n    <tr>\n      <th>550</th>\n      <td>2022-12-31</td>\n      <td>TMSC617</td>\n      <td>HU</td>\n      <td>8</td>\n      <td>0</td>\n    </tr>\n  </tbody>\n</table>\n<p>551 rows × 5 columns</p>\n</div>"
     },
     "execution_count": 2,
     "metadata": {},
     "output_type": "execute_result"
    }
   ],
   "source": [
    "production_volume_query = f\"\"\"SELECT\n",
    "            plan_date,\n",
    "            msc_code,\n",
    "            vehicle_color_code,\n",
    "            volume,\n",
    "            mwd.day_off\n",
    "        FROM production_plans\n",
    "        INNER JOIN mrp_week_definitions mwd on production_plans.plan_date = mwd.date\n",
    "        WHERE import_id = {production_plan_id}\n",
    "            and plan_date >= '{mrp_run_date}'\n",
    "            and production_plans.deleted_at is null\n",
    "        ORDER BY plan_date ASC;\n",
    "        \"\"\"\n",
    "pd.read_sql(text(production_volume_query), con=tb.db_connection)\n"
   ],
   "metadata": {
    "collapsed": false
   }
  }
 ],
 "metadata": {
  "kernelspec": {
   "display_name": "Python 3",
   "language": "python",
   "name": "python3"
  },
  "language_info": {
   "codemirror_mode": {
    "name": "ipython",
    "version": 2
   },
   "file_extension": ".py",
   "mimetype": "text/x-python",
   "name": "python",
   "nbconvert_exporter": "python",
   "pygments_lexer": "ipython2",
   "version": "2.7.6"
  }
 },
 "nbformat": 4,
 "nbformat_minor": 0
}
